{
 "cells": [
  {
   "cell_type": "code",
   "execution_count": null,
   "id": "318586cf",
   "metadata": {},
   "outputs": [],
   "source": []
  },
  {
   "cell_type": "markdown",
   "id": "13e65ee4",
   "metadata": {},
   "source": [
    "# LSTM Model"
   ]
  },
  {
   "cell_type": "code",
   "execution_count": null,
   "id": "ec273f2f",
   "metadata": {},
   "outputs": [],
   "source": [
    "\n",
    "import pandas as pd\n",
    "import numpy as np\n",
    "import tensorflow as tf\n",
    "from tensorflow.keras.models import Sequential\n",
    "from tensorflow.keras.layers import LSTM, Dense, Dropout\n",
    "from sklearn.metrics import mean_absolute_error, mean_squared_error"
   ]
  },
  {
   "cell_type": "markdown",
   "id": "5acc2c70",
   "metadata": {},
   "source": [
    "# Loading the data"
   ]
  },
  {
   "cell_type": "code",
   "execution_count": null,
   "id": "2e43b728",
   "metadata": {},
   "outputs": [],
   "source": [
    "\n",
    "df = pd.read_csv('data_nextday.csv')\n"
   ]
  },
  {
   "cell_type": "markdown",
   "id": "f4232544",
   "metadata": {},
   "source": [
    "# Defining features and target"
   ]
  },
  {
   "cell_type": "code",
   "execution_count": 11,
   "id": "1293caaa",
   "metadata": {},
   "outputs": [],
   "source": [
    "\n",
    "features = ['temperature', 'humidity', 'windSpeed', 'pressure', 'precipIntensity', 'hour', 'day_of_week', 'month', 'season']\n",
    "X = df[features].values\n",
    "y = df['demand_next_day'].values"
   ]
  },
  {
   "cell_type": "markdown",
   "id": "4108b40f",
   "metadata": {},
   "source": [
    "# Reshaping data for LSTM (3D array: samples, time steps, features)"
   ]
  },
  {
   "cell_type": "code",
   "execution_count": null,
   "id": "bc4cca67",
   "metadata": {},
   "outputs": [],
   "source": [
    "\n",
    "X_lstm = X.reshape((X.shape[0], 1, X.shape[1]))"
   ]
  },
  {
   "cell_type": "markdown",
   "id": "38f98b3d",
   "metadata": {},
   "source": [
    "# Building the LSTM model"
   ]
  },
  {
   "cell_type": "code",
   "execution_count": null,
   "id": "177e9b80",
   "metadata": {},
   "outputs": [
    {
     "name": "stderr",
     "output_type": "stream",
     "text": [
      "c:\\Users\\lenovo\\AppData\\Local\\Programs\\Python\\Python311\\Lib\\site-packages\\keras\\src\\layers\\rnn\\rnn.py:200: UserWarning: Do not pass an `input_shape`/`input_dim` argument to a layer. When using Sequential models, prefer using an `Input(shape)` object as the first layer in the model instead.\n",
      "  super().__init__(**kwargs)\n"
     ]
    }
   ],
   "source": [
    "\n",
    "model = Sequential()\n",
    "model.add(LSTM(units=64, activation='relu', input_shape=(X_lstm.shape[1], X_lstm.shape[2])))\n",
    "model.add(Dropout(0.2))\n",
    "model.add(Dense(units=1))  # Output layer\n"
   ]
  },
  {
   "cell_type": "markdown",
   "id": "ef4ce0ff",
   "metadata": {},
   "source": [
    "# Compiling the model"
   ]
  },
  {
   "cell_type": "code",
   "execution_count": null,
   "id": "86d0c10d",
   "metadata": {},
   "outputs": [],
   "source": [
    "\n",
    "model.compile(optimizer='adam', loss='mean_squared_error')\n"
   ]
  },
  {
   "cell_type": "markdown",
   "id": "ba9a316f",
   "metadata": {},
   "source": [
    "# Fiting the model"
   ]
  },
  {
   "cell_type": "code",
   "execution_count": null,
   "id": "746b4af9",
   "metadata": {},
   "outputs": [
    {
     "name": "stdout",
     "output_type": "stream",
     "text": [
      "Epoch 1/50\n",
      "\u001b[1m4990/4990\u001b[0m \u001b[32m━━━━━━━━━━━━━━━━━━━━\u001b[0m\u001b[37m\u001b[0m \u001b[1m7s\u001b[0m 1ms/step - loss: 36.3787\n",
      "Epoch 2/50\n",
      "\u001b[1m4990/4990\u001b[0m \u001b[32m━━━━━━━━━━━━━━━━━━━━\u001b[0m\u001b[37m\u001b[0m \u001b[1m6s\u001b[0m 1ms/step - loss: 0.0021\n",
      "Epoch 3/50\n",
      "\u001b[1m4990/4990\u001b[0m \u001b[32m━━━━━━━━━━━━━━━━━━━━\u001b[0m\u001b[37m\u001b[0m \u001b[1m6s\u001b[0m 1ms/step - loss: 0.0021\n",
      "Epoch 4/50\n",
      "\u001b[1m4990/4990\u001b[0m \u001b[32m━━━━━━━━━━━━━━━━━━━━\u001b[0m\u001b[37m\u001b[0m \u001b[1m6s\u001b[0m 1ms/step - loss: 0.0020\n",
      "Epoch 5/50\n",
      "\u001b[1m4990/4990\u001b[0m \u001b[32m━━━━━━━━━━━━━━━━━━━━\u001b[0m\u001b[37m\u001b[0m \u001b[1m7s\u001b[0m 1ms/step - loss: 0.0020\n",
      "Epoch 6/50\n",
      "\u001b[1m4990/4990\u001b[0m \u001b[32m━━━━━━━━━━━━━━━━━━━━\u001b[0m\u001b[37m\u001b[0m \u001b[1m7s\u001b[0m 1ms/step - loss: 0.0020\n",
      "Epoch 7/50\n",
      "\u001b[1m4990/4990\u001b[0m \u001b[32m━━━━━━━━━━━━━━━━━━━━\u001b[0m\u001b[37m\u001b[0m \u001b[1m8s\u001b[0m 2ms/step - loss: 0.0020\n",
      "Epoch 8/50\n",
      "\u001b[1m4990/4990\u001b[0m \u001b[32m━━━━━━━━━━━━━━━━━━━━\u001b[0m\u001b[37m\u001b[0m \u001b[1m7s\u001b[0m 1ms/step - loss: 0.0020\n",
      "Epoch 9/50\n",
      "\u001b[1m4990/4990\u001b[0m \u001b[32m━━━━━━━━━━━━━━━━━━━━\u001b[0m\u001b[37m\u001b[0m \u001b[1m8s\u001b[0m 2ms/step - loss: 0.0020\n",
      "Epoch 10/50\n",
      "\u001b[1m4990/4990\u001b[0m \u001b[32m━━━━━━━━━━━━━━━━━━━━\u001b[0m\u001b[37m\u001b[0m \u001b[1m8s\u001b[0m 2ms/step - loss: 0.0020\n",
      "Epoch 11/50\n",
      "\u001b[1m4990/4990\u001b[0m \u001b[32m━━━━━━━━━━━━━━━━━━━━\u001b[0m\u001b[37m\u001b[0m \u001b[1m7s\u001b[0m 1ms/step - loss: 0.0020\n",
      "Epoch 12/50\n",
      "\u001b[1m4990/4990\u001b[0m \u001b[32m━━━━━━━━━━━━━━━━━━━━\u001b[0m\u001b[37m\u001b[0m \u001b[1m7s\u001b[0m 1ms/step - loss: 0.0020\n",
      "Epoch 13/50\n",
      "\u001b[1m4990/4990\u001b[0m \u001b[32m━━━━━━━━━━━━━━━━━━━━\u001b[0m\u001b[37m\u001b[0m \u001b[1m7s\u001b[0m 1ms/step - loss: 0.0020\n",
      "Epoch 14/50\n",
      "\u001b[1m4990/4990\u001b[0m \u001b[32m━━━━━━━━━━━━━━━━━━━━\u001b[0m\u001b[37m\u001b[0m \u001b[1m7s\u001b[0m 1ms/step - loss: 0.0020\n",
      "Epoch 15/50\n",
      "\u001b[1m4990/4990\u001b[0m \u001b[32m━━━━━━━━━━━━━━━━━━━━\u001b[0m\u001b[37m\u001b[0m \u001b[1m7s\u001b[0m 1ms/step - loss: 0.0020\n",
      "Epoch 16/50\n",
      "\u001b[1m4990/4990\u001b[0m \u001b[32m━━━━━━━━━━━━━━━━━━━━\u001b[0m\u001b[37m\u001b[0m \u001b[1m8s\u001b[0m 1ms/step - loss: 0.0020\n",
      "Epoch 17/50\n",
      "\u001b[1m4990/4990\u001b[0m \u001b[32m━━━━━━━━━━━━━━━━━━━━\u001b[0m\u001b[37m\u001b[0m \u001b[1m7s\u001b[0m 1ms/step - loss: 0.0020\n",
      "Epoch 18/50\n",
      "\u001b[1m4990/4990\u001b[0m \u001b[32m━━━━━━━━━━━━━━━━━━━━\u001b[0m\u001b[37m\u001b[0m \u001b[1m11s\u001b[0m 2ms/step - loss: 0.0020\n",
      "Epoch 19/50\n",
      "\u001b[1m4990/4990\u001b[0m \u001b[32m━━━━━━━━━━━━━━━━━━━━\u001b[0m\u001b[37m\u001b[0m \u001b[1m11s\u001b[0m 2ms/step - loss: 0.0020\n",
      "Epoch 20/50\n",
      "\u001b[1m4990/4990\u001b[0m \u001b[32m━━━━━━━━━━━━━━━━━━━━\u001b[0m\u001b[37m\u001b[0m \u001b[1m9s\u001b[0m 2ms/step - loss: 0.0020\n",
      "Epoch 21/50\n",
      "\u001b[1m4990/4990\u001b[0m \u001b[32m━━━━━━━━━━━━━━━━━━━━\u001b[0m\u001b[37m\u001b[0m \u001b[1m6s\u001b[0m 1ms/step - loss: 0.0020\n",
      "Epoch 22/50\n",
      "\u001b[1m4990/4990\u001b[0m \u001b[32m━━━━━━━━━━━━━━━━━━━━\u001b[0m\u001b[37m\u001b[0m \u001b[1m6s\u001b[0m 1ms/step - loss: 0.0020\n",
      "Epoch 23/50\n",
      "\u001b[1m4990/4990\u001b[0m \u001b[32m━━━━━━━━━━━━━━━━━━━━\u001b[0m\u001b[37m\u001b[0m \u001b[1m6s\u001b[0m 1ms/step - loss: 0.0020\n",
      "Epoch 24/50\n",
      "\u001b[1m4990/4990\u001b[0m \u001b[32m━━━━━━━━━━━━━━━━━━━━\u001b[0m\u001b[37m\u001b[0m \u001b[1m6s\u001b[0m 1ms/step - loss: 0.0020\n",
      "Epoch 25/50\n",
      "\u001b[1m4990/4990\u001b[0m \u001b[32m━━━━━━━━━━━━━━━━━━━━\u001b[0m\u001b[37m\u001b[0m \u001b[1m6s\u001b[0m 1ms/step - loss: 0.0020\n",
      "Epoch 26/50\n",
      "\u001b[1m4990/4990\u001b[0m \u001b[32m━━━━━━━━━━━━━━━━━━━━\u001b[0m\u001b[37m\u001b[0m \u001b[1m7s\u001b[0m 1ms/step - loss: 0.0020\n",
      "Epoch 27/50\n",
      "\u001b[1m4990/4990\u001b[0m \u001b[32m━━━━━━━━━━━━━━━━━━━━\u001b[0m\u001b[37m\u001b[0m \u001b[1m6s\u001b[0m 1ms/step - loss: 0.0020\n",
      "Epoch 28/50\n",
      "\u001b[1m4990/4990\u001b[0m \u001b[32m━━━━━━━━━━━━━━━━━━━━\u001b[0m\u001b[37m\u001b[0m \u001b[1m7s\u001b[0m 1ms/step - loss: 0.0020\n",
      "Epoch 29/50\n",
      "\u001b[1m4990/4990\u001b[0m \u001b[32m━━━━━━━━━━━━━━━━━━━━\u001b[0m\u001b[37m\u001b[0m \u001b[1m7s\u001b[0m 1ms/step - loss: 0.0020\n",
      "Epoch 30/50\n",
      "\u001b[1m4990/4990\u001b[0m \u001b[32m━━━━━━━━━━━━━━━━━━━━\u001b[0m\u001b[37m\u001b[0m \u001b[1m8s\u001b[0m 2ms/step - loss: 0.0020\n",
      "Epoch 31/50\n",
      "\u001b[1m4990/4990\u001b[0m \u001b[32m━━━━━━━━━━━━━━━━━━━━\u001b[0m\u001b[37m\u001b[0m \u001b[1m8s\u001b[0m 2ms/step - loss: 0.0020\n",
      "Epoch 32/50\n",
      "\u001b[1m4990/4990\u001b[0m \u001b[32m━━━━━━━━━━━━━━━━━━━━\u001b[0m\u001b[37m\u001b[0m \u001b[1m11s\u001b[0m 2ms/step - loss: 0.0020\n",
      "Epoch 33/50\n",
      "\u001b[1m4990/4990\u001b[0m \u001b[32m━━━━━━━━━━━━━━━━━━━━\u001b[0m\u001b[37m\u001b[0m \u001b[1m10s\u001b[0m 2ms/step - loss: 0.0020\n",
      "Epoch 34/50\n",
      "\u001b[1m4990/4990\u001b[0m \u001b[32m━━━━━━━━━━━━━━━━━━━━\u001b[0m\u001b[37m\u001b[0m \u001b[1m8s\u001b[0m 2ms/step - loss: 0.0020\n",
      "Epoch 35/50\n",
      "\u001b[1m4990/4990\u001b[0m \u001b[32m━━━━━━━━━━━━━━━━━━━━\u001b[0m\u001b[37m\u001b[0m \u001b[1m6s\u001b[0m 1ms/step - loss: 0.0020\n",
      "Epoch 36/50\n",
      "\u001b[1m4990/4990\u001b[0m \u001b[32m━━━━━━━━━━━━━━━━━━━━\u001b[0m\u001b[37m\u001b[0m \u001b[1m6s\u001b[0m 1ms/step - loss: 0.0020\n",
      "Epoch 37/50\n",
      "\u001b[1m4990/4990\u001b[0m \u001b[32m━━━━━━━━━━━━━━━━━━━━\u001b[0m\u001b[37m\u001b[0m \u001b[1m6s\u001b[0m 1ms/step - loss: 0.0020\n",
      "Epoch 38/50\n",
      "\u001b[1m4990/4990\u001b[0m \u001b[32m━━━━━━━━━━━━━━━━━━━━\u001b[0m\u001b[37m\u001b[0m \u001b[1m6s\u001b[0m 1ms/step - loss: 0.0020\n",
      "Epoch 39/50\n",
      "\u001b[1m4990/4990\u001b[0m \u001b[32m━━━━━━━━━━━━━━━━━━━━\u001b[0m\u001b[37m\u001b[0m \u001b[1m6s\u001b[0m 1ms/step - loss: 0.0020\n",
      "Epoch 40/50\n",
      "\u001b[1m4990/4990\u001b[0m \u001b[32m━━━━━━━━━━━━━━━━━━━━\u001b[0m\u001b[37m\u001b[0m \u001b[1m6s\u001b[0m 1ms/step - loss: 0.0020\n",
      "Epoch 41/50\n",
      "\u001b[1m4990/4990\u001b[0m \u001b[32m━━━━━━━━━━━━━━━━━━━━\u001b[0m\u001b[37m\u001b[0m \u001b[1m6s\u001b[0m 1ms/step - loss: 0.0020\n",
      "Epoch 42/50\n",
      "\u001b[1m4990/4990\u001b[0m \u001b[32m━━━━━━━━━━━━━━━━━━━━\u001b[0m\u001b[37m\u001b[0m \u001b[1m6s\u001b[0m 1ms/step - loss: 0.0020\n",
      "Epoch 43/50\n",
      "\u001b[1m4990/4990\u001b[0m \u001b[32m━━━━━━━━━━━━━━━━━━━━\u001b[0m\u001b[37m\u001b[0m \u001b[1m6s\u001b[0m 1ms/step - loss: 0.0020\n",
      "Epoch 44/50\n",
      "\u001b[1m4990/4990\u001b[0m \u001b[32m━━━━━━━━━━━━━━━━━━━━\u001b[0m\u001b[37m\u001b[0m \u001b[1m6s\u001b[0m 1ms/step - loss: 0.0020\n",
      "Epoch 45/50\n",
      "\u001b[1m4990/4990\u001b[0m \u001b[32m━━━━━━━━━━━━━━━━━━━━\u001b[0m\u001b[37m\u001b[0m \u001b[1m6s\u001b[0m 1ms/step - loss: 0.0020\n",
      "Epoch 46/50\n",
      "\u001b[1m4990/4990\u001b[0m \u001b[32m━━━━━━━━━━━━━━━━━━━━\u001b[0m\u001b[37m\u001b[0m \u001b[1m6s\u001b[0m 1ms/step - loss: 0.0020\n",
      "Epoch 47/50\n",
      "\u001b[1m4990/4990\u001b[0m \u001b[32m━━━━━━━━━━━━━━━━━━━━\u001b[0m\u001b[37m\u001b[0m \u001b[1m6s\u001b[0m 1ms/step - loss: 0.0020\n",
      "Epoch 48/50\n",
      "\u001b[1m4990/4990\u001b[0m \u001b[32m━━━━━━━━━━━━━━━━━━━━\u001b[0m\u001b[37m\u001b[0m \u001b[1m6s\u001b[0m 1ms/step - loss: 0.0020\n",
      "Epoch 49/50\n",
      "\u001b[1m4990/4990\u001b[0m \u001b[32m━━━━━━━━━━━━━━━━━━━━\u001b[0m\u001b[37m\u001b[0m \u001b[1m7s\u001b[0m 1ms/step - loss: 0.0020\n",
      "Epoch 50/50\n",
      "\u001b[1m4990/4990\u001b[0m \u001b[32m━━━━━━━━━━━━━━━━━━━━\u001b[0m\u001b[37m\u001b[0m \u001b[1m7s\u001b[0m 1ms/step - loss: 0.0020\n"
     ]
    },
    {
     "data": {
      "text/plain": [
       "<keras.src.callbacks.history.History at 0x65228a10>"
      ]
     },
     "execution_count": 15,
     "metadata": {},
     "output_type": "execute_result"
    }
   ],
   "source": [
    "\n",
    "model.fit(X_lstm, y, epochs=50, batch_size=32)\n"
   ]
  },
  {
   "cell_type": "markdown",
   "id": "6bd6d9ae",
   "metadata": {},
   "source": [
    "# Make predictions"
   ]
  },
  {
   "cell_type": "code",
   "execution_count": null,
   "id": "9312270c",
   "metadata": {},
   "outputs": [
    {
     "name": "stdout",
     "output_type": "stream",
     "text": [
      "\u001b[1m4990/4990\u001b[0m \u001b[32m━━━━━━━━━━━━━━━━━━━━\u001b[0m\u001b[37m\u001b[0m \u001b[1m4s\u001b[0m 804us/step\n"
     ]
    }
   ],
   "source": [
    "\n",
    "y_pred_lstm = model.predict(X_lstm)"
   ]
  },
  {
   "cell_type": "code",
   "execution_count": 17,
   "id": "dfbc5426",
   "metadata": {},
   "outputs": [
    {
     "name": "stdout",
     "output_type": "stream",
     "text": [
      "LSTM - MAE: 0.03894687360294774\n",
      "LSTM - RMSE: 0.0448673526788605\n",
      "LSTM - MAPE: 74.45615211653968%\n"
     ]
    }
   ],
   "source": [
    "y_true = y.ravel()\n",
    "y_pred = y_pred_lstm.ravel()\n",
    "\n",
    "mae_lstm = mean_absolute_error(y_true, y_pred)\n",
    "rmse_lstm = np.sqrt(mean_squared_error(y_true, y_pred))\n",
    "\n",
    "nonzero_mask = y_true != 0\n",
    "mape_lstm = (np.abs(y_true[nonzero_mask] - y_pred[nonzero_mask]) / y_true[nonzero_mask]).mean() * 100\n",
    "\n",
    "print(f'LSTM - MAE: {mae_lstm}')\n",
    "print(f'LSTM - RMSE: {rmse_lstm}')\n",
    "print(f'LSTM - MAPE: {mape_lstm}%')"
   ]
  },
  {
   "cell_type": "code",
   "execution_count": 18,
   "id": "d1727ffb",
   "metadata": {},
   "outputs": [
    {
     "data": {
      "image/png": "[encoded data removed]",
      "text/plain": [
       "<Figure size 1000x600 with 1 Axes>"
      ]
     },
     "metadata": {},
     "output_type": "display_data"
    }
   ],
   "source": [
    "import matplotlib.pyplot as plt\n",
    "\n",
    "# Visualize Actual vs Predicted for LSTM (as an example)\n",
    "plt.figure(figsize=(10, 6))\n",
    "plt.plot(y_true, label='Actual Demand', color='blue')\n",
    "plt.plot(y_pred_lstm, label='LSTM Predicted', color='red', linestyle='--')\n",
    "plt.xlabel('Time')\n",
    "plt.ylabel('Demand')\n",
    "plt.title('Actual vs Predicted Demand (LSTM)')\n",
    "plt.legend()\n",
    "plt.show()\n"
   ]
  },
  {
   "cell_type": "code",
   "execution_count": null,
   "id": "6c10c423",
   "metadata": {},
   "outputs": [],
   "source": []
  }
 ],
 "metadata": {
  "kernelspec": {
   "display_name": "Python 3",
   "language": "python",
   "name": "python3"
  },
  "language_info": {
   "codemirror_mode": {
    "name": "ipython",
    "version": 3
   },
   "file_extension": ".py",
   "mimetype": "text/x-python",
   "name": "python",
   "nbconvert_exporter": "python",
   "pygments_lexer": "ipython3",
   "version": "3.11.4"
  }
 },
 "nbformat": 4,
 "nbformat_minor": 5
}
