{
 "cells": [
  {
   "cell_type": "code",
   "execution_count": 1,
   "id": "21b3c78f",
   "metadata": {},
   "outputs": [],
   "source": [
    "import pandas as pd"
   ]
  },
  {
   "cell_type": "code",
   "execution_count": 2,
   "id": "4a36a4d6",
   "metadata": {},
   "outputs": [],
   "source": [
    "# Create a DataFrame with model evaluation metrics\n",
    "data = {\n",
    "    'Model': ['Linear Regression', 'XGBoost', 'Random Forest', 'LSTM', 'Time Series', 'Naive Forecast', 'Stacking'],\n",
    "    'MAE': [0.035663133733861575, 0.02720903921138571, 0.022420457894530836, 0.038882280857727866, 0.07330594563641178, 0.011569651978064756, 0.021625558431865262],\n",
    "    'RMSE': [0.041354253686532554, 0.03339400909824232, 0.029157311453889164, 0.04484068861148131, 0.0822561863520736, 0.01776497188141579, 0.028932817711575763],\n",
    "    'MAPE': [64.7803197368818, 47.70834441968175, 38.75466231005771, 73.88701868611902, 61.98556458829758, 9.997515953755624, 36.56318610290177]\n",
    "}"
   ]
  },
  {
   "cell_type": "code",
   "execution_count": 3,
   "id": "da7ab75c",
   "metadata": {},
   "outputs": [],
   "source": [
    "# Create a DataFrame\n",
    "df_metrics = pd.DataFrame(data)\n"
   ]
  },
  {
   "cell_type": "code",
   "execution_count": 4,
   "id": "59c8d479",
   "metadata": {},
   "outputs": [],
   "source": [
    "# Format the MAPE values as percentages (keep it in numeric format for comparison)\n",
    "df_metrics['MAPE_numeric'] = df_metrics['MAPE']  # Keep MAPE as numeric for comparison\n",
    "df_metrics['MAPE'] = df_metrics['MAPE'].apply(lambda x: f'{x:.2f}%')  # Format MAPE as percentage for display\n",
    "\n",
    "# Find the model with the lowest MAE, RMSE, and MAPE\n",
    "best_mae_model = df_metrics.loc[df_metrics['MAE'].idxmin()]\n",
    "best_rmse_model = df_metrics.loc[df_metrics['RMSE'].idxmin()]\n",
    "best_mape_model = df_metrics.loc[df_metrics['MAPE_numeric'].idxmin()]\n",
    "\n",
    "# Compare and determine the overall best model based on all metrics\n",
    "best_model = min([best_mae_model, best_rmse_model, best_mape_model], key=lambda x: x[['MAE', 'RMSE', 'MAPE_numeric']].mean())\n"
   ]
  },
  {
   "cell_type": "code",
   "execution_count": 5,
   "id": "4f4dc181",
   "metadata": {},
   "outputs": [
    {
     "name": "stdout",
     "output_type": "stream",
     "text": [
      "               Model       MAE      RMSE    MAPE  MAPE_numeric\n",
      "0  Linear Regression  0.035663  0.041354  64.78%     64.780320\n",
      "1            XGBoost  0.027209  0.033394  47.71%     47.708344\n",
      "2      Random Forest  0.022420  0.029157  38.75%     38.754662\n",
      "3               LSTM  0.038882  0.044841  73.89%     73.887019\n",
      "4        Time Series  0.073306  0.082256  61.99%     61.985565\n",
      "5     Naive Forecast  0.011570  0.017765  10.00%      9.997516\n",
      "6           Stacking  0.021626  0.028933  36.56%     36.563186\n"
     ]
    }
   ],
   "source": [
    "# Output the DataFrame\n",
    "print(df_metrics)"
   ]
  },
  {
   "cell_type": "code",
   "execution_count": 6,
   "id": "801f4ec5",
   "metadata": {},
   "outputs": [
    {
     "name": "stdout",
     "output_type": "stream",
     "text": [
      "\n",
      "The best model based on MAE, RMSE, and MAPE is: Naive Forecast\n"
     ]
    }
   ],
   "source": [
    "# Output the best model based on MAE, RMSE, and MAPE\n",
    "print(f\"\\nThe best model based on MAE, RMSE, and MAPE is: {best_model['Model']}\")\n"
   ]
  },
  {
   "cell_type": "code",
   "execution_count": 7,
   "id": "1299e56a",
   "metadata": {},
   "outputs": [],
   "source": [
    "# Save the DataFrame to a CSV file\n",
    "df_metrics.to_csv('model_comparison_metrics.csv', index=False)"
   ]
  },
  {
   "cell_type": "code",
   "execution_count": null,
   "id": "925ffdd1",
   "metadata": {},
   "outputs": [],
   "source": []
  }
 ],
 "metadata": {
  "kernelspec": {
   "display_name": "Python 3",
   "language": "python",
   "name": "python3"
  },
  "language_info": {
   "codemirror_mode": {
    "name": "ipython",
    "version": 3
   },
   "file_extension": ".py",
   "mimetype": "text/x-python",
   "name": "python",
   "nbconvert_exporter": "python",
   "pygments_lexer": "ipython3",
   "version": "3.11.4"
  }
 },
 "nbformat": 4,
 "nbformat_minor": 5
}
