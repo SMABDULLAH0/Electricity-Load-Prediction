{
 "cells": [
  {
   "cell_type": "code",
   "execution_count": 2,
   "id": "50813cd5",
   "metadata": {},
   "outputs": [],
   "source": [
    "import pandas as pd\n",
    "from statsmodels.tsa.arima.model import ARIMA\n",
    "from statsmodels.tsa.statespace.sarimax import SARIMAX\n",
    "from sklearn.metrics import mean_absolute_error, mean_squared_error\n",
    "import numpy as np"
   ]
  },
  {
   "cell_type": "markdown",
   "id": "8a31a635",
   "metadata": {},
   "source": [
    "#  Load the data"
   ]
  },
  {
   "cell_type": "code",
   "execution_count": 3,
   "id": "c544139d",
   "metadata": {},
   "outputs": [],
   "source": [
    "\n",
    "df = pd.read_csv('data_nextday.csv')\n"
   ]
  },
  {
   "cell_type": "code",
   "execution_count": null,
   "id": "1d6648df",
   "metadata": {},
   "outputs": [],
   "source": [
    "\n",
    "df['Timestamp'] = pd.to_datetime(df['Timestamp'])\n",
    "df.set_index('Timestamp', inplace=True)\n"
   ]
  },
  {
   "cell_type": "markdown",
   "id": "df126051",
   "metadata": {},
   "source": [
    "# Define the target variable (demand_next_day)"
   ]
  },
  {
   "cell_type": "code",
   "execution_count": null,
   "id": "be387f59",
   "metadata": {},
   "outputs": [],
   "source": [
    "\n",
    "y = df['demand_next_day']"
   ]
  },
  {
   "cell_type": "markdown",
   "id": "52315ae7",
   "metadata": {},
   "source": [
    "# Split data into train and test sets (last 20% for testing)"
   ]
  },
  {
   "cell_type": "code",
   "execution_count": null,
   "id": "aac4df29",
   "metadata": {},
   "outputs": [],
   "source": [
    "\n",
    "train_size = int(len(df) * 0.8)\n",
    "train, test = y[:train_size], y[train_size:]\n"
   ]
  },
  {
   "cell_type": "code",
   "execution_count": null,
   "id": "6c7f8585",
   "metadata": {},
   "outputs": [
    {
     "name": "stderr",
     "output_type": "stream",
     "text": [
      "c:\\Users\\lenovo\\AppData\\Local\\Programs\\Python\\Python311\\Lib\\site-packages\\statsmodels\\tsa\\base\\tsa_model.py:473: ValueWarning: A date index has been provided, but it has no associated frequency information and so will be ignored when e.g. forecasting.\n",
      "  self._init_dates(dates, freq)\n",
      "c:\\Users\\lenovo\\AppData\\Local\\Programs\\Python\\Python311\\Lib\\site-packages\\statsmodels\\tsa\\base\\tsa_model.py:473: ValueWarning: A date index has been provided, but it is not monotonic and so will be ignored when e.g. forecasting.\n",
      "  self._init_dates(dates, freq)\n",
      "c:\\Users\\lenovo\\AppData\\Local\\Programs\\Python\\Python311\\Lib\\site-packages\\statsmodels\\tsa\\base\\tsa_model.py:473: ValueWarning: A date index has been provided, but it has no associated frequency information and so will be ignored when e.g. forecasting.\n",
      "  self._init_dates(dates, freq)\n",
      "c:\\Users\\lenovo\\AppData\\Local\\Programs\\Python\\Python311\\Lib\\site-packages\\statsmodels\\tsa\\base\\tsa_model.py:473: ValueWarning: A date index has been provided, but it is not monotonic and so will be ignored when e.g. forecasting.\n",
      "  self._init_dates(dates, freq)\n",
      "c:\\Users\\lenovo\\AppData\\Local\\Programs\\Python\\Python311\\Lib\\site-packages\\statsmodels\\tsa\\base\\tsa_model.py:473: ValueWarning: A date index has been provided, but it has no associated frequency information and so will be ignored when e.g. forecasting.\n",
      "  self._init_dates(dates, freq)\n",
      "c:\\Users\\lenovo\\AppData\\Local\\Programs\\Python\\Python311\\Lib\\site-packages\\statsmodels\\tsa\\base\\tsa_model.py:473: ValueWarning: A date index has been provided, but it is not monotonic and so will be ignored when e.g. forecasting.\n",
      "  self._init_dates(dates, freq)\n"
     ]
    }
   ],
   "source": [
    "\n",
    "# ARIMA Model (p=1, d=1, q=1)\n",
    "arima_model = ARIMA(train, order=(1, 1, 1))\n",
    "arima_model_fit = arima_model.fit()\n"
   ]
  },
  {
   "cell_type": "markdown",
   "id": "52dd9462",
   "metadata": {},
   "source": [
    "# Make predictions"
   ]
  },
  {
   "cell_type": "code",
   "execution_count": null,
   "id": "beb30759",
   "metadata": {},
   "outputs": [
    {
     "name": "stderr",
     "output_type": "stream",
     "text": [
      "c:\\Users\\lenovo\\AppData\\Local\\Programs\\Python\\Python311\\Lib\\site-packages\\statsmodels\\tsa\\base\\tsa_model.py:837: ValueWarning: No supported index is available. Prediction results will be given with an integer index beginning at `start`.\n",
      "  return get_prediction_index(\n",
      "c:\\Users\\lenovo\\AppData\\Local\\Programs\\Python\\Python311\\Lib\\site-packages\\statsmodels\\tsa\\base\\tsa_model.py:837: FutureWarning: No supported index is available. In the next version, calling this method in a model without a supported index will result in an exception.\n",
      "  return get_prediction_index(\n"
     ]
    }
   ],
   "source": [
    "\n",
    "y_pred_arima = arima_model_fit.forecast(steps=len(test))\n"
   ]
  },
  {
   "cell_type": "markdown",
   "id": "74c7c11a",
   "metadata": {},
   "source": [
    "# Evaluating the model"
   ]
  },
  {
   "cell_type": "code",
   "execution_count": null,
   "id": "f5cc00f7",
   "metadata": {},
   "outputs": [
    {
     "name": "stdout",
     "output_type": "stream",
     "text": [
      "ARIMA Model - MAE: 0.07330594563641178\n",
      "ARIMA Model - RMSE: 0.0822561863520736\n",
      "ARIMA Model - MAPE: 61.98556458829758%\n"
     ]
    }
   ],
   "source": [
    "#\n",
    "mae_arima = mean_absolute_error(test, y_pred_arima)\n",
    "rmse_arima = np.sqrt(mean_squared_error(test, y_pred_arima))\n",
    "mape_arima = (abs(test.reset_index(drop=True) - y_pred_arima.reset_index(drop=True)) / test.reset_index(drop=True)).mean() * 100\n",
    "\n",
    "\n",
    "# Output evaluation metrics\n",
    "print(f'ARIMA Model - MAE: {mae_arima}')\n",
    "print(f'ARIMA Model - RMSE: {rmse_arima}')\n",
    "print(f'ARIMA Model - MAPE: {mape_arima}%')"
   ]
  }
 ],
 "metadata": {
  "kernelspec": {
   "display_name": "Python 3",
   "language": "python",
   "name": "python3"
  },
  "language_info": {
   "codemirror_mode": {
    "name": "ipython",
    "version": 3
   },
   "file_extension": ".py",
   "mimetype": "text/x-python",
   "name": "python",
   "nbconvert_exporter": "python",
   "pygments_lexer": "ipython3",
   "version": "3.11.4"
  }
 },
 "nbformat": 4,
 "nbformat_minor": 5
}
